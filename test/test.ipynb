{
 "cells": [
  {
   "cell_type": "code",
   "execution_count": 6,
   "metadata": {},
   "outputs": [
    {
     "name": "stdout",
     "output_type": "stream",
     "text": [
      "32.45047943606167\n"
     ]
    }
   ],
   "source": [
    "import pandas as pd\n",
    "import pandas_ta as ta\n",
    "\n",
    "def fetch_rsi(exchange, symbol='BTC/USDT', timeframe='15m', limit=500, rsi_length=14, item=1):\n",
    "    \"\"\"\n",
    "    Fetches the RSI value for the given cryptocurrency symbol using a provided exchange object.\n",
    "\n",
    "    :param exchange: The exchange object from ccxt library.\n",
    "    :param symbol: The symbol for the cryptocurrency pair (default 'BTC/USDT').\n",
    "    :param timeframe: The timeframe for the data (default '15m').\n",
    "    :param limit: The number of data points to fetch (default 500).\n",
    "    :param rsi_length: The length of the RSI calculation (default 100).\n",
    "    :param return_full_df: If True, returns the full DataFrame including RSI (default False).\n",
    "    :return: The last RSI value or the full DataFrame with RSI.\n",
    "    \"\"\"\n",
    "    search_item= item * (-1)\n",
    "    try:\n",
    "        ohlcv = exchange.fetch_ohlcv(symbol, timeframe, limit=limit)\n",
    "        if len(ohlcv):\n",
    "            df = pd.DataFrame(ohlcv, columns=['time', 'open', 'high', 'low', 'close', 'volume'])\n",
    "            df['time'] = pd.to_datetime(df['time'], unit='ms')\n",
    "            df['RSI'] = df.ta.rsi(length=rsi_length)\n",
    "\n",
    "            return df['RSI'].iloc[search_item]\n",
    "    except Exception as e:\n",
    "        print(f\"Error occurred: {type(e).__name__}, {str(e)}\")\n",
    "        return None\n",
    "\n",
    "# Örnek kullanım:\n",
    "# exchange nesnesi önceden oluşturulmuş ve ccxt kütüphanesi kullanılarak başlatılmış olmalıdır.\n",
    "# Örneğin:\n",
    "import ccxt\n",
    "exchange = ccxt.binance()\n",
    "\n",
    "# Sonra fonksiyon çağrılır:\n",
    "rsi_value = fetch_rsi(exchange)  # Yalnızca son RSI değerini döndürür\n",
    "\n",
    "print(rsi_value)\n",
    "\n",
    "\n",
    "\n",
    "\n"
   ]
  },
  {
   "cell_type": "code",
   "execution_count": 10,
   "metadata": {},
   "outputs": [],
   "source": [
    "import ccxt\n",
    "exchange_id = \"binance\"\n",
    "exchange = getattr(ccxt, exchange_id)({\n",
    "    'options': {\n",
    "        'adjustForTimeDifference': True,  # ←---- resolves the timestamp\n",
    "    },\n",
    "    'enableRateLimit': True,  # ←---------- required as described in the Manual\n",
    "        'apiKey': \"LxtE5ghBycQ84wvqhPaYus5cp5FXXaNkeR4n4yrgk5hgREUbRN0U2GSXq1Ldmetj\",\n",
    "        'secret': \"erRYRqJ0W86sG6EojIO97q7lZyfCsoxcBoSvrfWzKelGfpcoXkG1BfeSAJ4NXd1U\",\n",
    "\n",
    "})"
   ]
  },
  {
   "cell_type": "code",
   "execution_count": 18,
   "metadata": {},
   "outputs": [],
   "source": [
    "# import time\n",
    "# current_milliseconds = int(time.time() * 1000)\n",
    "# params = {\n",
    "#     # 'recvWindow': 5000,\n",
    "#     # 'timestamp': current_milliseconds  # Zaman damgasını ekleyin\n",
    "# }\n",
    "exchange.verbose = False\n",
    "balance=exchange.fetch_balance(params={})"
   ]
  },
  {
   "cell_type": "code",
   "execution_count": null,
   "metadata": {},
   "outputs": [],
   "source": [
    "import pprint\n",
    "pprint.pprint(balance)"
   ]
  },
  {
   "cell_type": "code",
   "execution_count": 20,
   "metadata": {},
   "outputs": [
    {
     "data": {
      "text/plain": [
       "{'free': 0.0, 'used': 0.0, 'total': 0.0}"
      ]
     },
     "execution_count": 20,
     "metadata": {},
     "output_type": "execute_result"
    }
   ],
   "source": [
    "balance[\"BETH\"]"
   ]
  },
  {
   "cell_type": "code",
   "execution_count": 31,
   "metadata": {},
   "outputs": [
    {
     "name": "stdout",
     "output_type": "stream",
     "text": [
      "info\n",
      "  makerCommission\n",
      "  takerCommission\n",
      "  buyerCommission\n",
      "  ...\n",
      "BTC\n",
      "  free\n",
      "  used\n",
      "  total\n",
      "LTC\n",
      "  free\n",
      "  used\n",
      "  total\n",
      "...\n"
     ]
    }
   ],
   "source": [
    "def print_dict_schema(d, indent=0, limit=3):\n",
    "    # Her düğümde sadece belirtilen sayıda öğeyi yazdır\n",
    "    for i, (key, value) in enumerate(d.items()):\n",
    "        if i < limit:  # Sınırı kontrol et\n",
    "            print('  ' * indent + str(key))\n",
    "            if isinstance(value, dict):\n",
    "                print_dict_schema(value, indent + 1, limit)\n",
    "        else:\n",
    "            print('  ' * indent + '...')\n",
    "            break  # Daha fazla öğe yazdırmamak için döngüden çık\n",
    "\n",
    "print_dict_schema(balance)"
   ]
  },
  {
   "cell_type": "code",
   "execution_count": null,
   "metadata": {},
   "outputs": [],
   "source": [
    "# find symbol free is more than 0. symbol must be under info\n",
    "\n",
    "for symbol in balance.keys():\n",
    "    if symbol != \"info\":\n",
    "        if balance[symbol][\"free\"] > 0:\n",
    "            print(symbol)\n",
    "            print(balance[symbol])"
   ]
  }
 ],
 "metadata": {
  "kernelspec": {
   "display_name": "Python 3",
   "language": "python",
   "name": "python3"
  },
  "language_info": {
   "codemirror_mode": {
    "name": "ipython",
    "version": 3
   },
   "file_extension": ".py",
   "mimetype": "text/x-python",
   "name": "python",
   "nbconvert_exporter": "python",
   "pygments_lexer": "ipython3",
   "version": "3.8.10"
  }
 },
 "nbformat": 4,
 "nbformat_minor": 2
}
