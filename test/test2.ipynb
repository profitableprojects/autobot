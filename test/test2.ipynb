{
 "cells": [
  {
   "cell_type": "code",
   "execution_count": 2,
   "metadata": {},
   "outputs": [],
   "source": [
    "import yaml"
   ]
  },
  {
   "cell_type": "code",
   "execution_count": 3,
   "metadata": {},
   "outputs": [],
   "source": [
    "def read_config():\n",
    "    with open(\"config.yaml\", \"r\") as file:\n",
    "        return yaml.safe_load(file)"
   ]
  },
  {
   "cell_type": "code",
   "execution_count": 4,
   "metadata": {},
   "outputs": [],
   "source": [
    "config=read_config()"
   ]
  },
  {
   "cell_type": "code",
   "execution_count": 5,
   "metadata": {},
   "outputs": [],
   "source": [
    "trade_parameters=config[\"trade_parameters\"]"
   ]
  },
  {
   "cell_type": "code",
   "execution_count": 7,
   "metadata": {},
   "outputs": [
    {
     "name": "stdout",
     "output_type": "stream",
     "text": [
      "calculation_period : 15 <class 'int'>\n",
      "\n",
      "calculation_period_type : 0 <class 'int'>\n",
      "\n",
      "minimum_trade_amount : 5.1 <class 'float'>\n",
      "\n",
      "maximum_trade_amount : 10.0 <class 'float'>\n",
      "\n",
      "rsi_buy_limit : 33 <class 'int'>\n",
      "\n",
      "rsi_sell_limit : 65 <class 'int'>\n",
      "\n",
      "rejected_list : ['BNB', 'BSW', 'ETH', 'USDC', 'BUSD', 'FDUSD', 'TUSD', 'USDP'] <class 'list'>\n",
      "\n",
      "volume_limit : 1000000 <class 'int'>\n",
      "\n",
      "sale_profit1 : 1.07 <class 'float'>\n",
      "\n",
      "sale_profit2 : 1.05 <class 'float'>\n",
      "\n",
      "sale_profit3 : 1.04 <class 'float'>\n",
      "\n",
      "sell_difference_rsi : 33 <class 'int'>\n",
      "\n"
     ]
    }
   ],
   "source": [
    "for i in trade_parameters:\n",
    "    print(i,\":\",trade_parameters[i],type(trade_parameters[i]))\n",
    "    \n",
    "\n",
    "    print(\"\")"
   ]
  },
  {
   "cell_type": "code",
   "execution_count": 9,
   "metadata": {},
   "outputs": [
    {
     "name": "stdout",
     "output_type": "stream",
     "text": [
      "BTCUP/USDT\n",
      "BTCDOWN/USDT\n",
      "ETHUP/USDT\n",
      "ETHDOWN/USDT\n",
      "ADAUP/USDT\n",
      "ADADOWN/USDT\n",
      "LINKUP/USDT\n",
      "LINKDOWN/USDT\n",
      "BNBUP/USDT\n",
      "BNBDOWN/USDT\n",
      "XTZUP/USDT\n",
      "XTZDOWN/USDT\n",
      "EOSUP/USDT\n",
      "EOSDOWN/USDT\n",
      "TRXUP/USDT\n",
      "TRXDOWN/USDT\n",
      "XRPUP/USDT\n",
      "XRPDOWN/USDT\n",
      "DOTUP/USDT\n",
      "DOTDOWN/USDT\n",
      "LTCUP/USDT\n",
      "LTCDOWN/USDT\n",
      "UNIUP/USDT\n",
      "UNIDOWN/USDT\n",
      "SXPUP/USDT\n",
      "SXPDOWN/USDT\n",
      "FILUP/USDT\n",
      "FILDOWN/USDT\n",
      "YFIUP/USDT\n",
      "YFIDOWN/USDT\n",
      "BCHUP/USDT\n",
      "BCHDOWN/USDT\n",
      "AAVEUP/USDT\n",
      "AAVEDOWN/USDT\n",
      "SUSHIUP/USDT\n",
      "SUSHIDOWN/USDT\n",
      "XLMUP/USDT\n",
      "XLMDOWN/USDT\n",
      "1INCHUP/USDT\n",
      "1INCHDOWN/USDT\n"
     ]
    }
   ],
   "source": [
    "import ccxt\n",
    "\n",
    "# Binance exchange örneğini oluştur\n",
    "exchange = ccxt.binance()\n",
    "\n",
    "# Binance'deki tüm marketleri al\n",
    "markets = exchange.load_markets()\n",
    "\n",
    "# Sadece '/USDT' ile biten marketleri filtrele\n",
    "usdt_markets = [market for market in markets if market.endswith('/USDT')]\n",
    "\n",
    "# Sonuçları yazdır\n",
    "for i in usdt_markets:\n",
    "    if 'UP/' in i or 'DOWN/' in i:\n",
    "        print(i)\n"
   ]
  },
  {
   "cell_type": "code",
   "execution_count": null,
   "metadata": {},
   "outputs": [],
   "source": []
  }
 ],
 "metadata": {
  "kernelspec": {
   "display_name": "Python 3",
   "language": "python",
   "name": "python3"
  },
  "language_info": {
   "codemirror_mode": {
    "name": "ipython",
    "version": 3
   },
   "file_extension": ".py",
   "mimetype": "text/x-python",
   "name": "python",
   "nbconvert_exporter": "python",
   "pygments_lexer": "ipython3",
   "version": "3.9.13"
  }
 },
 "nbformat": 4,
 "nbformat_minor": 2
}
